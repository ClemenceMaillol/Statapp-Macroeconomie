{
 "cells": [
  {
   "cell_type": "code",
   "execution_count": 2,
   "id": "28138cee",
   "metadata": {},
   "outputs": [],
   "source": [
    "# Nettoyage de la table RealGdp.xls"
   ]
  },
  {
   "cell_type": "code",
   "execution_count": 15,
   "id": "700b5f6b",
   "metadata": {},
   "outputs": [],
   "source": [
    "import os\n",
    "import numpy as np\n",
    "import pandas as pd\n",
    "import statsmodels.tsa.filters.hp_filter as stat\n",
    "import numbers\n",
    "import matplotlib.pyplot as plt"
   ]
  },
  {
   "cell_type": "code",
   "execution_count": 4,
   "id": "da8b763c",
   "metadata": {},
   "outputs": [
    {
     "data": {
      "text/plain": [
       "'C:\\\\Users\\\\tayoy\\\\Documents\\\\GitHub\\\\Statapp-Macroeconomie\\\\Donnees'"
      ]
     },
     "execution_count": 4,
     "metadata": {},
     "output_type": "execute_result"
    }
   ],
   "source": [
    "#On utilisera data_directory pour aller chercher nos données\n",
    "wd=os.getcwd()    #votre dossier local (qui est un clone du repo du groupe) a son nom bien à lui. \n",
    "data_directory = wd+\"\\\\Donnees\" \n",
    "data_directory"
   ]
  },
  {
   "cell_type": "code",
   "execution_count": 5,
   "id": "59dc6d28",
   "metadata": {
    "scrolled": true
   },
   "outputs": [],
   "source": [
    "file=\"RealGDPYanis.xls\" #fichier manuellement modifié pour supprimer les en-têtes qui empêchaient sa lecture par pd.read_excel\n",
    "pthfile=data_directory+\"\\\\\\\\\"+\"RealGDP_SansHeaders.xls\""
   ]
  },
  {
   "cell_type": "code",
   "execution_count": 90,
   "id": "f16e524e",
   "metadata": {},
   "outputs": [],
   "source": [
    "df = pd.read_excel(io=pthfile,index_col = 0 ,usecols = \"A:IU\",header=0)"
   ]
  },
  {
   "cell_type": "code",
   "execution_count": 91,
   "id": "447cc68f",
   "metadata": {},
   "outputs": [
    {
     "data": {
      "text/html": [
       "<div>\n",
       "<style scoped>\n",
       "    .dataframe tbody tr th:only-of-type {\n",
       "        vertical-align: middle;\n",
       "    }\n",
       "\n",
       "    .dataframe tbody tr th {\n",
       "        vertical-align: top;\n",
       "    }\n",
       "\n",
       "    .dataframe thead th {\n",
       "        text-align: right;\n",
       "    }\n",
       "</style>\n",
       "<table border=\"1\" class=\"dataframe\">\n",
       "  <thead>\n",
       "    <tr style=\"text-align: right;\">\n",
       "      <th></th>\n",
       "      <th>Scale</th>\n",
       "      <th>Base Year</th>\n",
       "    </tr>\n",
       "    <tr>\n",
       "      <th>Country</th>\n",
       "      <th></th>\n",
       "      <th></th>\n",
       "    </tr>\n",
       "  </thead>\n",
       "  <tbody>\n",
       "    <tr>\n",
       "      <th>Argentina</th>\n",
       "      <td>Millions</td>\n",
       "      <td>2004</td>\n",
       "    </tr>\n",
       "    <tr>\n",
       "      <th>Australia</th>\n",
       "      <td>Millions</td>\n",
       "      <td>2019/2020</td>\n",
       "    </tr>\n",
       "    <tr>\n",
       "      <th>Austria</th>\n",
       "      <td>Millions</td>\n",
       "      <td>2010</td>\n",
       "    </tr>\n",
       "    <tr>\n",
       "      <th>Belgium</th>\n",
       "      <td>Millions</td>\n",
       "      <td>2010</td>\n",
       "    </tr>\n",
       "    <tr>\n",
       "      <th>Brazil</th>\n",
       "      <td>Millions</td>\n",
       "      <td>1995</td>\n",
       "    </tr>\n",
       "  </tbody>\n",
       "</table>\n",
       "</div>"
      ],
      "text/plain": [
       "              Scale  Base Year\n",
       "Country                       \n",
       "Argentina  Millions       2004\n",
       "Australia  Millions  2019/2020\n",
       "Austria    Millions       2010\n",
       "Belgium    Millions       2010\n",
       "Brazil     Millions       1995"
      ]
     },
     "execution_count": 91,
     "metadata": {},
     "output_type": "execute_result"
    }
   ],
   "source": [
    "#Séparation des infos non numériques. On les garde dans ce petit DataFrame au cas où\n",
    "infos_data = df[['Scale','Base Year']] \n",
    "infos_data.head()"
   ]
  },
  {
   "cell_type": "code",
   "execution_count": 92,
   "id": "0502febb",
   "metadata": {},
   "outputs": [],
   "source": [
    "#création du dataFrame qui nous intéresse vraiment :\n",
    "GDP = df.iloc[:,2:].T #sélection des colones et transposition"
   ]
  },
  {
   "cell_type": "code",
   "execution_count": 93,
   "id": "4e0f73f2",
   "metadata": {},
   "outputs": [],
   "source": [
    "types=GDP.applymap(lambda x: isinstance(x,numbers.Number)) #Identifie les entrées qui ne sont pas des nombres (le xls est lu tels que les NaN sont des '...' de type str)\n",
    "GDP=GDP[types].astype(float) #Remplace les entrées qui ne sont pas des nombres par des NaN\n",
    "GDP\n",
    "test_log = False #pour ne pas reprendre le log lors des manipulations sur le notebook"
   ]
  },
  {
   "cell_type": "code",
   "execution_count": 80,
   "id": "a29e59e6",
   "metadata": {},
   "outputs": [],
   "source": [
    "#Remplacement des index (str de format '1959Q1') par des floats pour faciliter les traitements\n",
    "GDP['Time']=([float(i[:4])+(float(i[-1])-1)/4 for i in (list(GDP.index))])\n",
    "GDP.set_index(['Time'], inplace=True) "
   ]
  },
  {
   "cell_type": "code",
   "execution_count": 95,
   "id": "402bcbd3",
   "metadata": {},
   "outputs": [
    {
     "name": "stdout",
     "output_type": "stream",
     "text": [
      "log déjà appliqué !\n"
     ]
    }
   ],
   "source": [
    "if test_log==False:\n",
    "    GDP=np.log(GDP) #Cette étape est à faire pour toutes les variables sauf 'employment rate :\n",
    "    test_log=True\n",
    "else :\n",
    "    print('log déjà appliqué !')"
   ]
  },
  {
   "cell_type": "code",
   "execution_count": 96,
   "id": "fb48107a",
   "metadata": {},
   "outputs": [],
   "source": [
    "Fr=GDP['France'].dropna()"
   ]
  },
  {
   "cell_type": "code",
   "execution_count": 105,
   "id": "820c0b89",
   "metadata": {},
   "outputs": [
    {
     "data": {
      "text/plain": [
       "[<matplotlib.lines.Line2D at 0x225c6d0b7f0>]"
      ]
     },
     "execution_count": 105,
     "metadata": {},
     "output_type": "execute_result"
    },
    {
     "data": {
      "image/png": "[encoded data removed]",
      "text/plain": [
       "<Figure size 432x288 with 2 Axes>"
      ]
     },
     "metadata": {
      "needs_background": "light"
     },
     "output_type": "display_data"
    }
   ],
   "source": [
    "cycles,tendance =stat.hpfilter(Fr, lamb=1600) #attention, il faut nettoyer les NaN dans les séries ! \n",
    "figure, axis = plt.subplots(1,2)\n",
    "axis[0].plot(Fr.index,cycles)\n",
    "axis[1].plot(Fr.index,tendance)\n",
    "\n",
    "#all(tendance+cycles==Fr) #test de conformité\n"
   ]
  },
  {
   "cell_type": "code",
   "execution_count": 123,
   "id": "2d5d27f9",
   "metadata": {},
   "outputs": [
    {
     "name": "stdout",
     "output_type": "stream",
     "text": [
      "C:/Users/tayoy/Documents/ENSAE/Statapp/Données/world_bank/Data_Extract_From_WDI_Database_Archives/403199a9-4743-4c6f-b4b1-8eb698a498c9_Data.csv\n"
     ]
    }
   ],
   "source": []
  }
 ],
 "metadata": {
  "kernelspec": {
   "display_name": "Python 3 (ipykernel)",
   "language": "python",
   "name": "python3"
  },
  "language_info": {
   "codemirror_mode": {
    "name": "ipython",
    "version": 3
   },
   "file_extension": ".py",
   "mimetype": "text/x-python",
   "name": "python",
   "nbconvert_exporter": "python",
   "pygments_lexer": "ipython3",
   "version": "3.9.7"
  }
 },
 "nbformat": 4,
 "nbformat_minor": 5
}
